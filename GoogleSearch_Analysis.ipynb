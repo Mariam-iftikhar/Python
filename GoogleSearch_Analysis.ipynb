{
  "nbformat": 4,
  "nbformat_minor": 0,
  "metadata": {
    "colab": {
      "provenance": []
    },
    "kernelspec": {
      "name": "python3",
      "display_name": "Python 3"
    },
    "language_info": {
      "name": "python"
    }
  },
  "cells": [
    {
      "cell_type": "code",
      "source": [
        "!pip install pytrends"
      ],
      "metadata": {
        "colab": {
          "base_uri": "https://localhost:8080/"
        },
        "id": "4LxlyUqa6XEK",
        "outputId": "523e419c-59a0-48ec-f512-44b419541484"
      },
      "execution_count": 2,
      "outputs": [
        {
          "output_type": "stream",
          "name": "stdout",
          "text": [
            "Collecting pytrends\n",
            "  Downloading pytrends-4.9.2-py3-none-any.whl (15 kB)\n",
            "Requirement already satisfied: requests>=2.0 in /usr/local/lib/python3.10/dist-packages (from pytrends) (2.31.0)\n",
            "Requirement already satisfied: pandas>=0.25 in /usr/local/lib/python3.10/dist-packages (from pytrends) (1.5.3)\n",
            "Requirement already satisfied: lxml in /usr/local/lib/python3.10/dist-packages (from pytrends) (4.9.4)\n",
            "Requirement already satisfied: python-dateutil>=2.8.1 in /usr/local/lib/python3.10/dist-packages (from pandas>=0.25->pytrends) (2.8.2)\n",
            "Requirement already satisfied: pytz>=2020.1 in /usr/local/lib/python3.10/dist-packages (from pandas>=0.25->pytrends) (2023.4)\n",
            "Requirement already satisfied: numpy>=1.21.0 in /usr/local/lib/python3.10/dist-packages (from pandas>=0.25->pytrends) (1.25.2)\n",
            "Requirement already satisfied: charset-normalizer<4,>=2 in /usr/local/lib/python3.10/dist-packages (from requests>=2.0->pytrends) (3.3.2)\n",
            "Requirement already satisfied: idna<4,>=2.5 in /usr/local/lib/python3.10/dist-packages (from requests>=2.0->pytrends) (3.6)\n",
            "Requirement already satisfied: urllib3<3,>=1.21.1 in /usr/local/lib/python3.10/dist-packages (from requests>=2.0->pytrends) (2.0.7)\n",
            "Requirement already satisfied: certifi>=2017.4.17 in /usr/local/lib/python3.10/dist-packages (from requests>=2.0->pytrends) (2024.2.2)\n",
            "Requirement already satisfied: six>=1.5 in /usr/local/lib/python3.10/dist-packages (from python-dateutil>=2.8.1->pandas>=0.25->pytrends) (1.16.0)\n",
            "Installing collected packages: pytrends\n",
            "Successfully installed pytrends-4.9.2\n"
          ]
        }
      ]
    },
    {
      "cell_type": "code",
      "execution_count": 3,
      "metadata": {
        "id": "x-IF1AghujSL"
      },
      "outputs": [],
      "source": [
        "import pandas as pd\n",
        "from pytrends.request import TrendReq\n",
        "import matplotlib.pyplot as plt\n",
        "trends = TrendReq()"
      ]
    },
    {
      "cell_type": "code",
      "source": [
        "trends.build_payload(kw_list=[\"Power BI\",\"Tableau\"])\n",
        "data = trends.interest_by_region()\n",
        "data = data.sort_values(by=\"Power BI\", ascending=False)\n",
        "data = data.head(50)\n",
        "print(data)"
      ],
      "metadata": {
        "colab": {
          "base_uri": "https://localhost:8080/"
        },
        "id": "6OZv8H7S6i-9",
        "outputId": "31cfd54b-6217-461d-959e-d2c4b9796140"
      },
      "execution_count": 19,
      "outputs": [
        {
          "output_type": "stream",
          "name": "stdout",
          "text": [
            "                      Power BI  Tableau\n",
            "geoName                                \n",
            "Brazil                      89       11\n",
            "Colombia                    87       13\n",
            "Chile                       86       14\n",
            "Sweden                      80       20\n",
            "Argentina                   79       21\n",
            "Denmark                     79       21\n",
            "Netherlands                 77       23\n",
            "Portugal                    76       24\n",
            "Spain                       74       26\n",
            "Mexico                      73       27\n",
            "Poland                      73       27\n",
            "United Arab Emirates        72       28\n",
            "Pakistan                    71       29\n",
            "Australia                   70       30\n",
            "Malaysia                    70       30\n",
            "Thailand                    69       31\n",
            "Türkiye                     68       32\n",
            "United Kingdom              67       33\n",
            "Ukraine                     66       34\n",
            "Russia                      64       36\n",
            "Vietnam                     64       36\n",
            "Germany                     63       37\n",
            "Egypt                       63       37\n",
            "India                       61       39\n",
            "Philippines                 58       42\n",
            "Ireland                     55       45\n",
            "Taiwan                      54       46\n",
            "Romania                     54       46\n",
            "Hong Kong                   54       46\n",
            "Israel                      49       51\n",
            "Italy                       48       52\n",
            "Indonesia                   47       53\n",
            "United States               44       56\n",
            "Singapore                   43       57\n",
            "South Korea                 40       60\n",
            "Canada                      32       68\n",
            "Japan                       29       71\n",
            "Switzerland                 19       81\n",
            "Belgium                     15       85\n",
            "Tunisia                      8       92\n",
            "Morocco                      5       95\n",
            "France                       3       97\n",
            "Palestine                    0        0\n",
            "Palau                        0        0\n",
            "Micronesia                   0        0\n",
            "Papua New Guinea             0        0\n",
            "Paraguay                     0        0\n",
            "Moldova                      0        0\n",
            "Panama                       0        0\n",
            "Nepal                        0        0\n"
          ]
        }
      ]
    }
  ]
}